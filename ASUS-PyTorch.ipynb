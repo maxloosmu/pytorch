{
 "cells": [
  {
   "cell_type": "code",
   "execution_count": 2,
   "metadata": {
    "colab": {
     "base_uri": "https://localhost:8080/"
    },
    "executionInfo": {
     "elapsed": 6815,
     "status": "ok",
     "timestamp": 1694852455958,
     "user": {
      "displayName": "Pin Mok Loo",
      "userId": "06765443668331974654"
     },
     "user_tz": -480
    },
    "id": "-ZXFtXr4qw6K",
    "outputId": "235a6c8c-10c0-415a-83d0-a43c11694ab6"
   },
   "outputs": [
    {
     "name": "stdout",
     "output_type": "stream",
     "text": [
      "Collecting torch\n",
      "  Downloading torch-1.13.1-cp37-cp37m-win_amd64.whl (162.6 MB)\n",
      "Requirement already satisfied: typing-extensions in c:\\users\\max\\anaconda3\\lib\\site-packages (from torch) (3.10.0.2)\n",
      "Installing collected packages: torch\n",
      "Successfully installed torch-1.13.1\n"
     ]
    },
    {
     "name": "stderr",
     "output_type": "stream",
     "text": [
      "WARNING: Ignoring invalid distribution -tkinter-pymol (c:\\users\\max\\anaconda3\\dlls)\n",
      "WARNING: Ignoring invalid distribution -tkinter-pymol (c:\\users\\max\\anaconda3\\dlls)\n",
      "WARNING: Ignoring invalid distribution -tkinter-pymol (c:\\users\\max\\anaconda3\\dlls)\n",
      "WARNING: Ignoring invalid distribution -tkinter-pymol (c:\\users\\max\\anaconda3\\dlls)\n",
      "WARNING: Ignoring invalid distribution -tkinter-pymol (c:\\users\\max\\anaconda3\\dlls)\n",
      "WARNING: Ignoring invalid distribution -tkinter-pymol (c:\\users\\max\\anaconda3\\dlls)\n"
     ]
    }
   ],
   "source": [
    "!pip3 install torch"
   ]
  },
  {
   "cell_type": "code",
   "execution_count": 12,
   "metadata": {
    "executionInfo": {
     "elapsed": 330,
     "status": "ok",
     "timestamp": 1694853099330,
     "user": {
      "displayName": "Pin Mok Loo",
      "userId": "06765443668331974654"
     },
     "user_tz": -480
    },
    "id": "A1vQhGhorBxj"
   },
   "outputs": [],
   "source": [
    "import torch\n",
    "import numpy as np\n",
    "import matplotlib.pyplot as plt\n",
    "from torch.nn import Linear"
   ]
  },
  {
   "cell_type": "code",
   "execution_count": null,
   "metadata": {
    "colab": {
     "base_uri": "https://localhost:8080/"
    },
    "executionInfo": {
     "elapsed": 348,
     "status": "ok",
     "timestamp": 1694762437723,
     "user": {
      "displayName": "Pin Mok Loo",
      "userId": "06765443668331974654"
     },
     "user_tz": -480
    },
    "id": "MQTAeEczrIvN",
    "outputId": "27f0f455-b863-4889-ee60-1021545dc29f"
   },
   "outputs": [
    {
     "name": "stdout",
     "output_type": "stream",
     "text": [
      "tensor([1, 2, 3, 4, 5])\n"
     ]
    }
   ],
   "source": [
    "v = torch.tensor([1, 2, 3, 4, 5])\n",
    "print(v)"
   ]
  },
  {
   "cell_type": "code",
   "execution_count": null,
   "metadata": {
    "colab": {
     "base_uri": "https://localhost:8080/"
    },
    "executionInfo": {
     "elapsed": 313,
     "status": "ok",
     "timestamp": 1694762141411,
     "user": {
      "displayName": "Pin Mok Loo",
      "userId": "06765443668331974654"
     },
     "user_tz": -480
    },
    "id": "y_JiSjd2rWuq",
    "outputId": "fdea2907-3590-437b-b341-578242f1d8eb"
   },
   "outputs": [
    {
     "name": "stdout",
     "output_type": "stream",
     "text": [
      "tensor([2, 3, 4])\n",
      "torch.int64\n",
      "torch.Size([5])\n"
     ]
    }
   ],
   "source": [
    "print(v[1:-1])\n",
    "print(v.dtype)\n",
    "print(v.size())"
   ]
  },
  {
   "cell_type": "code",
   "execution_count": null,
   "metadata": {
    "colab": {
     "base_uri": "https://localhost:8080/"
    },
    "executionInfo": {
     "elapsed": 309,
     "status": "ok",
     "timestamp": 1694763964871,
     "user": {
      "displayName": "Pin Mok Loo",
      "userId": "06765443668331974654"
     },
     "user_tz": -480
    },
    "id": "wW1T5ucBrcBj",
    "outputId": "8c689256-fc56-44da-da78-8ae98937fd8d"
   },
   "outputs": [
    {
     "name": "stdout",
     "output_type": "stream",
     "text": [
      "tensor([1., 2., 3.])\n",
      "torch.float32\n"
     ]
    }
   ],
   "source": [
    "f = torch.FloatTensor([1, 2, 3])\n",
    "print(f)\n",
    "print(f.dtype)"
   ]
  },
  {
   "cell_type": "code",
   "execution_count": null,
   "metadata": {
    "colab": {
     "base_uri": "https://localhost:8080/"
    },
    "executionInfo": {
     "elapsed": 6,
     "status": "ok",
     "timestamp": 1694762314214,
     "user": {
      "displayName": "Pin Mok Loo",
      "userId": "06765443668331974654"
     },
     "user_tz": -480
    },
    "id": "bLhl5XhWsuZH",
    "outputId": "e16a1a7f-b579-495e-c417-a95803d9e7d3"
   },
   "outputs": [
    {
     "data": {
      "text/plain": [
       "tensor([[1, 2, 3, 4, 5]])"
      ]
     },
     "execution_count": 18,
     "metadata": {},
     "output_type": "execute_result"
    }
   ],
   "source": [
    "v.view(1, -1)"
   ]
  },
  {
   "cell_type": "code",
   "execution_count": null,
   "metadata": {
    "colab": {
     "base_uri": "https://localhost:8080/"
    },
    "executionInfo": {
     "elapsed": 5,
     "status": "ok",
     "timestamp": 1694762317779,
     "user": {
      "displayName": "Pin Mok Loo",
      "userId": "06765443668331974654"
     },
     "user_tz": -480
    },
    "id": "udUobhzbtAL7",
    "outputId": "e32db44c-6648-4c2f-e844-0e14c8977ba0"
   },
   "outputs": [
    {
     "data": {
      "text/plain": [
       "tensor([[1],\n",
       "        [2],\n",
       "        [3],\n",
       "        [4],\n",
       "        [5]])"
      ]
     },
     "execution_count": 19,
     "metadata": {},
     "output_type": "execute_result"
    }
   ],
   "source": [
    "v.view(5, -1)"
   ]
  },
  {
   "cell_type": "code",
   "execution_count": null,
   "metadata": {
    "colab": {
     "base_uri": "https://localhost:8080/",
     "height": 176
    },
    "executionInfo": {
     "elapsed": 6,
     "status": "error",
     "timestamp": 1694762342829,
     "user": {
      "displayName": "Pin Mok Loo",
      "userId": "06765443668331974654"
     },
     "user_tz": -480
    },
    "id": "LQIc1G-gtLSH",
    "outputId": "3bf2fd9f-b164-4084-8726-d44a4cc98b04"
   },
   "outputs": [
    {
     "ename": "RuntimeError",
     "evalue": "ignored",
     "output_type": "error",
     "traceback": [
      "\u001b[0;31m---------------------------------------------------------------------------\u001b[0m",
      "\u001b[0;31mRuntimeError\u001b[0m                              Traceback (most recent call last)",
      "\u001b[0;32m<ipython-input-20-95720972c85a>\u001b[0m in \u001b[0;36m<cell line: 1>\u001b[0;34m()\u001b[0m\n\u001b[0;32m----> 1\u001b[0;31m \u001b[0mv\u001b[0m\u001b[0;34m.\u001b[0m\u001b[0mview\u001b[0m\u001b[0;34m(\u001b[0m\u001b[0;36m2\u001b[0m\u001b[0;34m,\u001b[0m \u001b[0;34m-\u001b[0m\u001b[0;36m1\u001b[0m\u001b[0;34m)\u001b[0m\u001b[0;34m\u001b[0m\u001b[0;34m\u001b[0m\u001b[0m\n\u001b[0m",
      "\u001b[0;31mRuntimeError\u001b[0m: shape '[2, -1]' is invalid for input of size 5"
     ]
    }
   ],
   "source": [
    "v.view(2, -1)"
   ]
  },
  {
   "cell_type": "code",
   "execution_count": null,
   "metadata": {
    "colab": {
     "base_uri": "https://localhost:8080/"
    },
    "executionInfo": {
     "elapsed": 318,
     "status": "ok",
     "timestamp": 1694762486706,
     "user": {
      "displayName": "Pin Mok Loo",
      "userId": "06765443668331974654"
     },
     "user_tz": -480
    },
    "id": "tr5l13FztRU2",
    "outputId": "91de28fa-3035-4074-8c8d-0a1ca150a603"
   },
   "outputs": [
    {
     "name": "stdout",
     "output_type": "stream",
     "text": [
      "[1 2 3 4 5]\n"
     ]
    }
   ],
   "source": [
    "a = np.array([1, 2, 3, 4, 5])\n",
    "print(a)"
   ]
  },
  {
   "cell_type": "code",
   "execution_count": null,
   "metadata": {
    "colab": {
     "base_uri": "https://localhost:8080/"
    },
    "executionInfo": {
     "elapsed": 6,
     "status": "ok",
     "timestamp": 1694762624429,
     "user": {
      "displayName": "Pin Mok Loo",
      "userId": "06765443668331974654"
     },
     "user_tz": -480
    },
    "id": "yZ2WkXXjtyIh",
    "outputId": "21482988-7217-4e3b-b150-a8bba66f4e42"
   },
   "outputs": [
    {
     "name": "stdout",
     "output_type": "stream",
     "text": [
      "tensor([1, 2, 3, 4, 5])\n",
      "torch.LongTensor\n"
     ]
    }
   ],
   "source": [
    "tensor_conv = torch.from_numpy(a)\n",
    "print(tensor_conv)\n",
    "print(tensor_conv.type())"
   ]
  },
  {
   "cell_type": "code",
   "execution_count": null,
   "metadata": {
    "colab": {
     "base_uri": "https://localhost:8080/"
    },
    "executionInfo": {
     "elapsed": 5,
     "status": "ok",
     "timestamp": 1694762709384,
     "user": {
      "displayName": "Pin Mok Loo",
      "userId": "06765443668331974654"
     },
     "user_tz": -480
    },
    "id": "JXXT8awQuK1U",
    "outputId": "7bd021a8-dc5c-4fa8-e429-247233343988"
   },
   "outputs": [
    {
     "name": "stdout",
     "output_type": "stream",
     "text": [
      "[1 2 3 4 5]\n"
     ]
    }
   ],
   "source": [
    "numpy_conv = tensor_conv.numpy()\n",
    "print(numpy_conv)"
   ]
  },
  {
   "cell_type": "code",
   "execution_count": null,
   "metadata": {
    "colab": {
     "base_uri": "https://localhost:8080/"
    },
    "executionInfo": {
     "elapsed": 299,
     "status": "ok",
     "timestamp": 1694764164634,
     "user": {
      "displayName": "Pin Mok Loo",
      "userId": "06765443668331974654"
     },
     "user_tz": -480
    },
    "id": "cYuyHq0Iuncv",
    "outputId": "5532dc1c-8339-4a04-fc1b-c29d4ba71572"
   },
   "outputs": [
    {
     "name": "stdout",
     "output_type": "stream",
     "text": [
      "tensor(17)\n"
     ]
    },
    {
     "data": {
      "text/plain": [
       "tensor([ 1,  4, 12])"
      ]
     },
     "execution_count": 37,
     "metadata": {},
     "output_type": "execute_result"
    }
   ],
   "source": [
    "one = torch.tensor([1, 2, 3])\n",
    "two = torch.tensor([1, 2, 4])\n",
    "dot_product = torch.dot(one, two)\n",
    "print(dot_product)\n",
    "one * two\n"
   ]
  },
  {
   "cell_type": "code",
   "execution_count": null,
   "metadata": {
    "colab": {
     "base_uri": "https://localhost:8080/"
    },
    "executionInfo": {
     "elapsed": 5,
     "status": "ok",
     "timestamp": 1694764167914,
     "user": {
      "displayName": "Pin Mok Loo",
      "userId": "06765443668331974654"
     },
     "user_tz": -480
    },
    "id": "EFcj3hKJz1Zk",
    "outputId": "f5115347-70cf-4b56-a4bb-111841e38506"
   },
   "outputs": [
    {
     "data": {
      "text/plain": [
       "array([ 1,  4, 12])"
      ]
     },
     "execution_count": 38,
     "metadata": {},
     "output_type": "execute_result"
    }
   ],
   "source": [
    "one.numpy() * two.numpy()"
   ]
  },
  {
   "cell_type": "code",
   "execution_count": null,
   "metadata": {
    "colab": {
     "base_uri": "https://localhost:8080/",
     "height": 447
    },
    "executionInfo": {
     "elapsed": 1103,
     "status": "ok",
     "timestamp": 1694764456488,
     "user": {
      "displayName": "Pin Mok Loo",
      "userId": "06765443668331974654"
     },
     "user_tz": -480
    },
    "id": "UByRe6oR0PCs",
    "outputId": "880d4af1-aa47-400b-c8dc-31029ccf8e5e"
   },
   "outputs": [
    {
     "data": {
      "text/plain": [
       "[<matplotlib.lines.Line2D at 0x7caf2d747040>]"
      ]
     },
     "execution_count": 41,
     "metadata": {},
     "output_type": "execute_result"
    },
    {
     "data": {
      "image/png": "[encoded data removed]",
      "text/plain": [
       "<Figure size 640x480 with 1 Axes>"
      ]
     },
     "metadata": {},
     "output_type": "display_data"
    }
   ],
   "source": [
    "x = torch.linspace(0, 10, 20)\n",
    "y = torch.sin(x)\n",
    "plt.plot(x.numpy(), y.numpy())"
   ]
  },
  {
   "cell_type": "code",
   "execution_count": null,
   "metadata": {
    "colab": {
     "base_uri": "https://localhost:8080/"
    },
    "executionInfo": {
     "elapsed": 6,
     "status": "ok",
     "timestamp": 1694765610972,
     "user": {
      "displayName": "Pin Mok Loo",
      "userId": "06765443668331974654"
     },
     "user_tz": -480
    },
    "id": "vaXqbhVG1VIe",
    "outputId": "0b23cee5-dfdd-42e3-9895-577f03b8c823"
   },
   "outputs": [
    {
     "name": "stdout",
     "output_type": "stream",
     "text": [
      "tensor([[[ 0,  2],\n",
      "         [ 4,  6],\n",
      "         [ 8, 10]],\n",
      "\n",
      "        [[12, 14],\n",
      "         [16, 18],\n",
      "         [20, 22]],\n",
      "\n",
      "        [[24, 26],\n",
      "         [28, 30],\n",
      "         [32, 34]]])\n"
     ]
    }
   ],
   "source": [
    "three_dim = torch.arange(0, 36, 2).view(3, 3, 2)\n",
    "print(three_dim)"
   ]
  },
  {
   "cell_type": "code",
   "execution_count": null,
   "metadata": {
    "colab": {
     "base_uri": "https://localhost:8080/"
    },
    "executionInfo": {
     "elapsed": 6,
     "status": "ok",
     "timestamp": 1694765721557,
     "user": {
      "displayName": "Pin Mok Loo",
      "userId": "06765443668331974654"
     },
     "user_tz": -480
    },
    "id": "JPwhIjET5pzQ",
    "outputId": "a42bfe98-5880-4d89-b25f-751e47687763"
   },
   "outputs": [
    {
     "data": {
      "text/plain": [
       "tensor([[12, 14],\n",
       "        [16, 18]])"
      ]
     },
     "execution_count": 45,
     "metadata": {},
     "output_type": "execute_result"
    }
   ],
   "source": [
    "three_dim[1, :-1, :]"
   ]
  },
  {
   "cell_type": "code",
   "execution_count": null,
   "metadata": {
    "colab": {
     "base_uri": "https://localhost:8080/"
    },
    "executionInfo": {
     "elapsed": 6,
     "status": "ok",
     "timestamp": 1694766078983,
     "user": {
      "displayName": "Pin Mok Loo",
      "userId": "06765443668331974654"
     },
     "user_tz": -480
    },
    "id": "ijzYAXer6AS9",
    "outputId": "559f6f36-e968-45da-f1a4-f61e54badc73"
   },
   "outputs": [
    {
     "data": {
      "text/plain": [
       "tensor([[22, 28],\n",
       "        [49, 64]])"
      ]
     },
     "execution_count": 47,
     "metadata": {},
     "output_type": "execute_result"
    }
   ],
   "source": [
    "matrix1 = torch.tensor([1, 2, 3, 4, 5, 6]).view(2, 3)\n",
    "matrix2 = torch.tensor([1, 2, 3, 4, 5, 6]).view(3, 2)\n",
    "torch.matmul(matrix1, matrix2)"
   ]
  },
  {
   "cell_type": "code",
   "execution_count": null,
   "metadata": {
    "colab": {
     "base_uri": "https://localhost:8080/"
    },
    "executionInfo": {
     "elapsed": 7,
     "status": "ok",
     "timestamp": 1694766110242,
     "user": {
      "displayName": "Pin Mok Loo",
      "userId": "06765443668331974654"
     },
     "user_tz": -480
    },
    "id": "glvBCU977QDJ",
    "outputId": "ab09a139-29bd-4c66-f2f5-3f2a9027d382"
   },
   "outputs": [
    {
     "data": {
      "text/plain": [
       "tensor([[22, 28],\n",
       "        [49, 64]])"
      ]
     },
     "execution_count": 48,
     "metadata": {},
     "output_type": "execute_result"
    }
   ],
   "source": [
    "matrix1 @ matrix2"
   ]
  },
  {
   "cell_type": "code",
   "execution_count": null,
   "metadata": {
    "colab": {
     "base_uri": "https://localhost:8080/"
    },
    "executionInfo": {
     "elapsed": 351,
     "status": "ok",
     "timestamp": 1694767253506,
     "user": {
      "displayName": "Pin Mok Loo",
      "userId": "06765443668331974654"
     },
     "user_tz": -480
    },
    "id": "T3Qt5Fkn7pKr",
    "outputId": "15ce073f-276d-4f75-8adc-ac0a596e6906"
   },
   "outputs": [
    {
     "data": {
      "text/plain": [
       "tensor(2.)"
      ]
     },
     "execution_count": 49,
     "metadata": {},
     "output_type": "execute_result"
    }
   ],
   "source": [
    "x1 = torch.tensor(1.0, requires_grad=True)\n",
    "z1 = torch.tensor(2.0, requires_grad=True)\n",
    "y1 = x1**2 + z1**3\n",
    "y1.backward()\n",
    "x1.grad"
   ]
  },
  {
   "cell_type": "code",
   "execution_count": null,
   "metadata": {
    "colab": {
     "base_uri": "https://localhost:8080/"
    },
    "executionInfo": {
     "elapsed": 7,
     "status": "ok",
     "timestamp": 1694767267878,
     "user": {
      "displayName": "Pin Mok Loo",
      "userId": "06765443668331974654"
     },
     "user_tz": -480
    },
    "id": "y0ro2gOaAAON",
    "outputId": "650d2188-fd59-41ae-80d7-4478a40af08e"
   },
   "outputs": [
    {
     "data": {
      "text/plain": [
       "tensor(12.)"
      ]
     },
     "execution_count": 51,
     "metadata": {},
     "output_type": "execute_result"
    }
   ],
   "source": [
    "z1.grad"
   ]
  },
  {
   "cell_type": "code",
   "execution_count": 4,
   "metadata": {
    "executionInfo": {
     "elapsed": 317,
     "status": "ok",
     "timestamp": 1694852547273,
     "user": {
      "displayName": "Pin Mok Loo",
      "userId": "06765443668331974654"
     },
     "user_tz": -480
    },
    "id": "I0rDl1oLABv_"
   },
   "outputs": [],
   "source": [
    "w = torch.tensor(3.0, requires_grad=True)\n",
    "b = torch.tensor(1.0, requires_grad=True)"
   ]
  },
  {
   "cell_type": "code",
   "execution_count": 5,
   "metadata": {
    "executionInfo": {
     "elapsed": 306,
     "status": "ok",
     "timestamp": 1694852594349,
     "user": {
      "displayName": "Pin Mok Loo",
      "userId": "06765443668331974654"
     },
     "user_tz": -480
    },
    "id": "BGzGNV3fFX46"
   },
   "outputs": [],
   "source": [
    "def forward(x):\n",
    "  y = w*x + b\n",
    "  return y"
   ]
  },
  {
   "cell_type": "code",
   "execution_count": 11,
   "metadata": {
    "colab": {
     "base_uri": "https://localhost:8080/"
    },
    "executionInfo": {
     "elapsed": 3,
     "status": "ok",
     "timestamp": 1694852760481,
     "user": {
      "displayName": "Pin Mok Loo",
      "userId": "06765443668331974654"
     },
     "user_tz": -480
    },
    "id": "doJyfJ6AFjZO",
    "outputId": "88c78cc7-2e8b-4334-e14e-48f76038ede8"
   },
   "outputs": [
    {
     "data": {
      "text/plain": [
       "tensor([10., 22.], grad_fn=<AddBackward0>)"
      ]
     },
     "execution_count": 11,
     "metadata": {},
     "output_type": "execute_result"
    }
   ],
   "source": [
    "x = torch.tensor([3, 7])\n",
    "forward(x)"
   ]
  },
  {
   "cell_type": "code",
   "execution_count": 14,
   "metadata": {
    "colab": {
     "base_uri": "https://localhost:8080/"
    },
    "executionInfo": {
     "elapsed": 306,
     "status": "ok",
     "timestamp": 1694853249012,
     "user": {
      "displayName": "Pin Mok Loo",
      "userId": "06765443668331974654"
     },
     "user_tz": -480
    },
    "id": "J4CAFUn_FtRJ",
    "outputId": "96b8d235-6f84-4071-cc8d-af43400daad9"
   },
   "outputs": [
    {
     "name": "stdout",
     "output_type": "stream",
     "text": [
      "Parameter containing:\n",
      "tensor([-0.2380], requires_grad=True) Parameter containing:\n",
      "tensor([[0.2294]], requires_grad=True)\n"
     ]
    }
   ],
   "source": [
    "torch.manual_seed(2)\n",
    "model = Linear(in_features=1, out_features=1)\n",
    "print(model.bias, model.weight)"
   ]
  },
  {
   "cell_type": "code",
   "execution_count": 15,
   "metadata": {
    "colab": {
     "base_uri": "https://localhost:8080/"
    },
    "executionInfo": {
     "elapsed": 312,
     "status": "ok",
     "timestamp": 1694853320583,
     "user": {
      "displayName": "Pin Mok Loo",
      "userId": "06765443668331974654"
     },
     "user_tz": -480
    },
    "id": "ZFsqNY-OIBMc",
    "outputId": "167e9383-cc6b-4d63-95e5-52bd26fa4c4f"
   },
   "outputs": [
    {
     "name": "stdout",
     "output_type": "stream",
     "text": [
      "tensor([[0.2208],\n",
      "        [1.4366]], grad_fn=<AddmmBackward0>)\n"
     ]
    }
   ],
   "source": [
    "x = torch.tensor([[2.0], [7.3]])\n",
    "print(model(x))"
   ]
  },
  {
   "cell_type": "code",
   "execution_count": 4,
   "metadata": {
    "id": "C87up4MCIUrl"
   },
   "outputs": [
    {
     "name": "stdout",
     "output_type": "stream",
     "text": [
      "Epoch [1/100], Loss: 0.4450\n",
      "Epoch [11/100], Loss: 0.0085\n",
      "Epoch [21/100], Loss: 0.0080\n",
      "Epoch [31/100], Loss: 0.0076\n",
      "Epoch [41/100], Loss: 0.0072\n",
      "Epoch [51/100], Loss: 0.0068\n",
      "Epoch [61/100], Loss: 0.0065\n",
      "Epoch [71/100], Loss: 0.0061\n",
      "Epoch [81/100], Loss: 0.0058\n",
      "Epoch [91/100], Loss: 0.0055\n",
      "Optimized w: 3.1086955070495605\n",
      "Optimized b: 1.0804682970046997\n"
     ]
    }
   ],
   "source": [
    "import torch\n",
    "\n",
    "# Initial values for w and b\n",
    "w = torch.tensor(3.0, requires_grad=True)\n",
    "b = torch.tensor(1.0, requires_grad=True)\n",
    "\n",
    "# Define the input data and ground truth (target)\n",
    "x = torch.tensor([3, 7], dtype=torch.float32)\n",
    "ground_truth = torch.tensor([10.5, 22.8], dtype=torch.float32)\n",
    "\n",
    "# Optimization algorithm (SGD in this example)\n",
    "optimizer = torch.optim.SGD([w, b], lr=0.01)  # lr is the learning rate\n",
    "\n",
    "# Training loop\n",
    "for epoch in range(100):  # You can adjust the number of epochs\n",
    "    # Forward pass\n",
    "    predictions = w * x + b\n",
    "\n",
    "    # Compute the Mean Squared Error (MSE) loss\n",
    "    loss = torch.mean((predictions - ground_truth)**2)\n",
    "\n",
    "    # Backpropagation: Compute gradients\n",
    "    loss.backward()\n",
    "\n",
    "    # Update parameters using the optimizer\n",
    "    optimizer.step()\n",
    "\n",
    "    # Zero the gradients to prevent accumulation\n",
    "    optimizer.zero_grad()\n",
    "\n",
    "    if epoch % 10 == 0:\n",
    "        print(f'Epoch [{epoch+1}/100], Loss: {loss.item():.4f}')\n",
    "\n",
    "# After training, the optimized values of w and b will be available\n",
    "print(\"Optimized w:\", w.item())\n",
    "print(\"Optimized b:\", b.item())"
   ]
  },
  {
   "cell_type": "code",
   "execution_count": 2,
   "metadata": {},
   "outputs": [
    {
     "name": "stdout",
     "output_type": "stream",
     "text": [
      "LR(\n",
      "  (linear): Linear(in_features=1, out_features=1, bias=True)\n",
      ")\n",
      "tensor([[0.0739],\n",
      "        [0.5891]], grad_fn=<AddmmBackward0>)\n",
      "<generator object Module.parameters at 0x000002122CFDF348>\n",
      "Parameter containing:\n",
      "tensor([[0.5153]], requires_grad=True)\n",
      "Parameter containing:\n",
      "tensor([-0.4414], requires_grad=True)\n"
     ]
    }
   ],
   "source": [
    "import torch\n",
    "import torch.nn as nn\n",
    "import matplotlib.pyplot as plt\n",
    "import numpy as np\n",
    "\n",
    "class LR(nn.Module):\n",
    "  def __init__(self, input_size, output_size):\n",
    "    super().__init__()\n",
    "    self.linear = nn.Linear(input_size, output_size)\n",
    "  def forward(self, x):\n",
    "    pred = self.linear(x)\n",
    "    return pred\n",
    "\n",
    "torch.manual_seed(1)\n",
    "model = LR(1, 1)\n",
    "print(model)\n",
    "\n",
    "x = torch.tensor([[1.0], [2.0]])\n",
    "print(model.forward(x))\n",
    "print(model.parameters())\n",
    "[w, b] = model.parameters()\n",
    "print(w)\n",
    "print(b)"
   ]
  },
  {
   "cell_type": "code",
   "execution_count": 3,
   "metadata": {},
   "outputs": [
    {
     "name": "stdout",
     "output_type": "stream",
     "text": [
      "tensor([[ -6.5398],\n",
      "        [-16.0948],\n",
      "        [ -1.0017],\n",
      "        [ -6.0919],\n",
      "        [ -6.6291],\n",
      "        [  8.0731],\n",
      "        [  4.3914],\n",
      "        [ 11.7120],\n",
      "        [ 17.6743],\n",
      "        [ -0.9536],\n",
      "        [  1.3937],\n",
      "        [-15.7850],\n",
      "        [ -7.9807],\n",
      "        [ -1.3162],\n",
      "        [ -7.9844],\n",
      "        [  3.3573],\n",
      "        [  2.7533],\n",
      "        [ 17.1630],\n",
      "        [ -0.5614],\n",
      "        [  9.1070]])\n",
      "tensor([[ -6.0809],\n",
      "        [-17.5219],\n",
      "        [ -6.6481],\n",
      "        [ -8.4215],\n",
      "        [-12.0392],\n",
      "        [  4.1481],\n",
      "        [  5.7512],\n",
      "        [ 15.1385],\n",
      "        [ 18.4201],\n",
      "        [ -6.2798],\n",
      "        [  1.3172],\n",
      "        [-18.8550],\n",
      "        [ -7.6510],\n",
      "        [ -3.2552],\n",
      "        [ -6.6988],\n",
      "        [  7.7855],\n",
      "        [ -2.6073],\n",
      "        [ 21.9940],\n",
      "        [ -2.6733],\n",
      "        [  8.5512]])\n"
     ]
    }
   ],
   "source": [
    "X = torch.randn(20, 1)*10\n",
    "y = X + 3*torch.randn(20, 1)\n",
    "print(X)\n",
    "print(y)\n",
    "\n",
    "[w, b] = model.parameters()\n",
    "def get_params():\n",
    "  return (w[0][0].item(), b[0].item())\n",
    "     \n"
   ]
  },
  {
   "cell_type": "code",
   "execution_count": null,
   "metadata": {},
   "outputs": [],
   "source": [
    "plt.plot(X.numpy(), y.numpy(), 'o')\n",
    "plt.ylabel('y')\n",
    "plt.xlabel('x')"
   ]
  },
  {
   "cell_type": "code",
   "execution_count": null,
   "metadata": {},
   "outputs": [],
   "source": [
    "def plot_fit(title):\n",
    "  plt.title = title\n",
    "  w1, b1 = get_params()\n",
    "  x1 = np.array([-30, 30])\n",
    "  y1 = w1*x1 + b1\n",
    "  plt.plot(x1, y1, 'r')\n",
    "  plt.scatter(X, y)\n",
    "  plt.show()\n",
    "     \n",
    "plot_fit('Initial Model')"
   ]
  }
 ],
 "metadata": {
  "colab": {
   "authorship_tag": "ABX9TyNJDL8NIXV22gpz5fRtxZ8q",
   "provenance": []
  },
  "kernelspec": {
   "display_name": "Python 3",
   "language": "python",
   "name": "python3"
  },
  "language_info": {
   "codemirror_mode": {
    "name": "ipython",
    "version": 3
   },
   "file_extension": ".py",
   "mimetype": "text/x-python",
   "name": "python",
   "nbconvert_exporter": "python",
   "pygments_lexer": "ipython3",
   "version": "3.7.11"
  }
 },
 "nbformat": 4,
 "nbformat_minor": 1
}
