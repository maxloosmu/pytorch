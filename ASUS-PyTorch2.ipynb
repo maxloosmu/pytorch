{
 "cells": [
  {
   "cell_type": "code",
   "execution_count": 1,
   "id": "c6a9b421",
   "metadata": {},
   "outputs": [
    {
     "name": "stdout",
     "output_type": "stream",
     "text": [
      "LR(\n",
      "  (linear): Linear(in_features=1, out_features=1, bias=True)\n",
      ")\n",
      "tensor([[0.0739],\n",
      "        [0.5891]], grad_fn=<AddmmBackward0>)\n",
      "<generator object Module.parameters at 0x000001CE5C14CC48>\n",
      "Parameter containing:\n",
      "tensor([[0.5153]], requires_grad=True)\n",
      "Parameter containing:\n",
      "tensor([-0.4414], requires_grad=True)\n"
     ]
    }
   ],
   "source": [
    "import torch\n",
    "import torch.nn as nn\n",
    "import matplotlib.pyplot as plt\n",
    "import numpy as np\n",
    "\n",
    "class LR(nn.Module):\n",
    "  def __init__(self, input_size, output_size):\n",
    "    super().__init__()\n",
    "    self.linear = nn.Linear(input_size, output_size)\n",
    "  def forward(self, x):\n",
    "    pred = self.linear(x)\n",
    "    return pred\n",
    "\n",
    "torch.manual_seed(1)\n",
    "model = LR(1, 1)\n",
    "print(model)\n",
    "\n",
    "x = torch.tensor([[1.0], [2.0]])\n",
    "print(model.forward(x))\n",
    "print(model.parameters())\n",
    "[w, b] = model.parameters()\n",
    "print(w)\n",
    "print(b)"
   ]
  },
  {
   "cell_type": "code",
   "execution_count": 2,
   "id": "ab9519ca",
   "metadata": {},
   "outputs": [
    {
     "name": "stdout",
     "output_type": "stream",
     "text": [
      "tensor([[ -6.5398],\n",
      "        [-16.0948],\n",
      "        [ -1.0017],\n",
      "        [ -6.0919],\n",
      "        [ -6.6291],\n",
      "        [  8.0731],\n",
      "        [  4.3914],\n",
      "        [ 11.7120],\n",
      "        [ 17.6743],\n",
      "        [ -0.9536],\n",
      "        [  1.3937],\n",
      "        [-15.7850],\n",
      "        [ -7.9807],\n",
      "        [ -1.3162],\n",
      "        [ -7.9844],\n",
      "        [  3.3573],\n",
      "        [  2.7533],\n",
      "        [ 17.1630],\n",
      "        [ -0.5614],\n",
      "        [  9.1070]])\n",
      "tensor([[ -6.0809],\n",
      "        [-17.5219],\n",
      "        [ -6.6481],\n",
      "        [ -8.4215],\n",
      "        [-12.0392],\n",
      "        [  4.1481],\n",
      "        [  5.7512],\n",
      "        [ 15.1385],\n",
      "        [ 18.4201],\n",
      "        [ -6.2798],\n",
      "        [  1.3172],\n",
      "        [-18.8550],\n",
      "        [ -7.6510],\n",
      "        [ -3.2552],\n",
      "        [ -6.6988],\n",
      "        [  7.7855],\n",
      "        [ -2.6073],\n",
      "        [ 21.9940],\n",
      "        [ -2.6733],\n",
      "        [  8.5512]])\n"
     ]
    }
   ],
   "source": [
    "X = torch.randn(20, 1)*10\n",
    "y = X + 3*torch.randn(20, 1)\n",
    "print(X)\n",
    "print(y)\n",
    "\n",
    "[w, b] = model.parameters()\n",
    "def get_params():\n",
    "  return (w[0][0].item(), b[0].item())"
   ]
  },
  {
   "cell_type": "code",
   "execution_count": 3,
   "id": "b5cd68fe",
   "metadata": {},
   "outputs": [
    {
     "name": "stdout",
     "output_type": "stream",
     "text": [
      "[[ -6.539809  ]\n",
      " [-16.094849  ]\n",
      " [ -1.0016718 ]\n",
      " [ -6.0918894 ]\n",
      " [ -6.6291137 ]\n",
      " [  8.073083  ]\n",
      " [  4.3914156 ]\n",
      " [ 11.7120075 ]\n",
      " [ 17.674273  ]\n",
      " [ -0.9536188 ]\n",
      " [  1.393715  ]\n",
      " [-15.785011  ]\n",
      " [ -7.9806986 ]\n",
      " [ -1.3162321 ]\n",
      " [ -7.984398  ]\n",
      " [  3.3573053 ]\n",
      " [  2.7533352 ]\n",
      " [ 17.163027  ]\n",
      " [ -0.56139666]\n",
      " [  9.107019  ]]\n",
      "[[ -6.0809383]\n",
      " [-17.521885 ]\n",
      " [ -6.6480994]\n",
      " [ -8.421524 ]\n",
      " [-12.039206 ]\n",
      " [  4.1481204]\n",
      " [  5.751179 ]\n",
      " [ 15.138491 ]\n",
      " [ 18.420105 ]\n",
      " [ -6.2798214]\n",
      " [  1.3172076]\n",
      " [-18.855003 ]\n",
      " [ -7.651042 ]\n",
      " [ -3.2552476]\n",
      " [ -6.698771 ]\n",
      " [  7.7855387]\n",
      " [ -2.607268 ]\n",
      " [ 21.99398  ]\n",
      " [ -2.6732666]\n",
      " [  8.551222 ]]\n"
     ]
    }
   ],
   "source": [
    "Xnp = X.numpy()\n",
    "ynp = y.numpy()\n",
    "print(Xnp)\n",
    "print(ynp)"
   ]
  },
  {
   "cell_type": "code",
   "execution_count": 4,
   "id": "08223fea",
   "metadata": {},
   "outputs": [],
   "source": [
    "# Xnp = [1,2,3]\n",
    "# ynp = [1,2,3]"
   ]
  },
  {
   "cell_type": "code",
   "execution_count": null,
   "id": "9d899da0",
   "metadata": {},
   "outputs": [],
   "source": [
    "plt.plot(Xnp, ynp, 'o')\n",
    "plt.ylabel('y')\n",
    "plt.xlabel('x')\n",
    "plt.show()"
   ]
  },
  {
   "cell_type": "code",
   "execution_count": null,
   "id": "6d7f5f9d",
   "metadata": {},
   "outputs": [],
   "source": [
    "def plot_fit(title):\n",
    "  plt.title = title\n",
    "  w1, b1 = get_params()\n",
    "  x1 = np.array([-30, 30])\n",
    "  y1 = w1*x1 + b1\n",
    "  plt.plot(x1, y1, 'r')\n",
    "  plt.scatter(X, y)\n",
    "  plt.ylabel('y')\n",
    "  plt.xlabel('x')\n",
    "  plt.show()\n",
    "     \n",
    "plot_fit('Initial Model')"
   ]
  },
  {
   "cell_type": "code",
   "execution_count": null,
   "id": "2dc6fca3",
   "metadata": {},
   "outputs": [],
   "source": [
    "X = torch.randn(20, 1)*10\n",
    "y = X + 3*torch.randn(20, 1)\n",
    "Xnp = X.numpy()\n",
    "ynp = y.numpy()\n",
    "plt.plot(Xnp, ynp, 'o')\n",
    "plt.ylabel('y')\n",
    "plt.xlabel('x')\n",
    "plt.show()"
   ]
  }
 ],
 "metadata": {
  "kernelspec": {
   "display_name": "Python 3",
   "language": "python",
   "name": "python3"
  },
  "language_info": {
   "codemirror_mode": {
    "name": "ipython",
    "version": 3
   },
   "file_extension": ".py",
   "mimetype": "text/x-python",
   "name": "python",
   "nbconvert_exporter": "python",
   "pygments_lexer": "ipython3",
   "version": "3.7.11"
  }
 },
 "nbformat": 4,
 "nbformat_minor": 5
}
