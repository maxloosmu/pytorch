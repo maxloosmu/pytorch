{
  "cells": [
    {
      "cell_type": "code",
      "execution_count": null,
      "id": "c6a9b421",
      "metadata": {
        "colab": {
          "base_uri": "https://localhost:8080/"
        },
        "id": "c6a9b421",
        "outputId": "45a5804c-7171-4547-b419-a8d9ed9868a6"
      },
      "outputs": [
        {
          "output_type": "stream",
          "name": "stdout",
          "text": [
            "LR(\n",
            "  (linear): Linear(in_features=1, out_features=1, bias=True)\n",
            ")\n",
            "tensor([[0.0739],\n",
            "        [0.5891]], grad_fn=<AddmmBackward0>)\n",
            "<generator object Module.parameters at 0x7e1ea371e260>\n",
            "Parameter containing:\n",
            "tensor([[0.5153]], requires_grad=True)\n",
            "Parameter containing:\n",
            "tensor([-0.4414], requires_grad=True)\n"
          ]
        }
      ],
      "source": [
        "import torch\n",
        "import torch.nn as nn\n",
        "import matplotlib.pyplot as plt\n",
        "import numpy as np\n",
        "\n",
        "class LR(nn.Module):\n",
        "  def __init__(self, input_size, output_size):\n",
        "    super().__init__()\n",
        "    self.linear = nn.Linear(input_size, output_size)\n",
        "  def forward(self, x):\n",
        "    pred = self.linear(x)\n",
        "    return pred\n",
        "\n",
        "torch.manual_seed(1)\n",
        "model = LR(1, 1)\n",
        "print(model)\n",
        "\n",
        "x = torch.tensor([[1.0], [2.0]])\n",
        "print(model.forward(x))\n",
        "print(model.parameters())\n",
        "[w, b] = model.parameters()\n",
        "print(w)\n",
        "print(b)"
      ]
    },
    {
      "cell_type": "code",
      "execution_count": null,
      "id": "ab9519ca",
      "metadata": {
        "colab": {
          "base_uri": "https://localhost:8080/"
        },
        "id": "ab9519ca",
        "outputId": "647b7df0-ff1e-4e07-c16d-74206efbe7e1"
      },
      "outputs": [
        {
          "output_type": "stream",
          "name": "stdout",
          "text": [
            "tensor([[ -6.5398],\n",
            "        [-16.0948],\n",
            "        [ -1.0017],\n",
            "        [ -6.0919],\n",
            "        [ -6.6291],\n",
            "        [  8.0731],\n",
            "        [  4.3914],\n",
            "        [ 11.7120],\n",
            "        [ 17.6743],\n",
            "        [ -0.9536],\n",
            "        [  1.3937],\n",
            "        [-15.7850],\n",
            "        [ -7.9807],\n",
            "        [ -1.3162],\n",
            "        [ -7.9844],\n",
            "        [  3.3573],\n",
            "        [  2.7533],\n",
            "        [ 17.1630],\n",
            "        [ -0.5614],\n",
            "        [  9.1070]])\n",
            "tensor([[ -6.0809],\n",
            "        [-17.5219],\n",
            "        [ -6.6481],\n",
            "        [ -8.4215],\n",
            "        [-12.0392],\n",
            "        [  4.1481],\n",
            "        [  5.7512],\n",
            "        [ 15.1385],\n",
            "        [ 18.4201],\n",
            "        [ -6.2798],\n",
            "        [  1.3172],\n",
            "        [-18.8550],\n",
            "        [ -7.6510],\n",
            "        [ -3.2552],\n",
            "        [ -6.6988],\n",
            "        [  7.7855],\n",
            "        [ -2.6073],\n",
            "        [ 21.9940],\n",
            "        [ -2.6733],\n",
            "        [  8.5512]])\n"
          ]
        }
      ],
      "source": [
        "X = torch.randn(20, 1)*10\n",
        "y = X + 3*torch.randn(20, 1)\n",
        "print(X)\n",
        "print(y)\n",
        "\n",
        "[w, b] = model.parameters()\n",
        "def get_params():\n",
        "  return (w[0][0].item(), b[0].item())"
      ]
    },
    {
      "cell_type": "code",
      "execution_count": null,
      "id": "b5cd68fe",
      "metadata": {
        "colab": {
          "base_uri": "https://localhost:8080/"
        },
        "id": "b5cd68fe",
        "outputId": "d1df6088-4afa-4773-96d0-402964d4bfe2"
      },
      "outputs": [
        {
          "output_type": "stream",
          "name": "stdout",
          "text": [
            "[[ -6.539809  ]\n",
            " [-16.094849  ]\n",
            " [ -1.0016718 ]\n",
            " [ -6.0918894 ]\n",
            " [ -6.6291137 ]\n",
            " [  8.073083  ]\n",
            " [  4.3914156 ]\n",
            " [ 11.7120075 ]\n",
            " [ 17.674273  ]\n",
            " [ -0.9536188 ]\n",
            " [  1.393715  ]\n",
            " [-15.785011  ]\n",
            " [ -7.9806986 ]\n",
            " [ -1.3162321 ]\n",
            " [ -7.984398  ]\n",
            " [  3.3573053 ]\n",
            " [  2.7533352 ]\n",
            " [ 17.163027  ]\n",
            " [ -0.56139666]\n",
            " [  9.107019  ]]\n",
            "[[ -6.0809383]\n",
            " [-17.521885 ]\n",
            " [ -6.6480994]\n",
            " [ -8.421524 ]\n",
            " [-12.039206 ]\n",
            " [  4.1481204]\n",
            " [  5.751179 ]\n",
            " [ 15.138491 ]\n",
            " [ 18.420105 ]\n",
            " [ -6.2798214]\n",
            " [  1.3172076]\n",
            " [-18.855003 ]\n",
            " [ -7.651042 ]\n",
            " [ -3.2552476]\n",
            " [ -6.698771 ]\n",
            " [  7.7855387]\n",
            " [ -2.607268 ]\n",
            " [ 21.99398  ]\n",
            " [ -2.6732666]\n",
            " [  8.551222 ]]\n"
          ]
        }
      ],
      "source": [
        "Xnp = X.numpy()\n",
        "ynp = y.numpy()\n",
        "print(Xnp)\n",
        "print(ynp)"
      ]
    },
    {
      "cell_type": "code",
      "execution_count": null,
      "id": "08223fea",
      "metadata": {
        "id": "08223fea"
      },
      "outputs": [],
      "source": [
        "# Xnp = [1,2,3]\n",
        "# ynp = [1,2,3]"
      ]
    },
    {
      "cell_type": "code",
      "execution_count": null,
      "id": "9d899da0",
      "metadata": {
        "colab": {
          "base_uri": "https://localhost:8080/",
          "height": 449
        },
        "id": "9d899da0",
        "outputId": "79f0aea1-f958-4ced-d488-c7e7953a5870"
      },
      "outputs": [
        {
          "output_type": "display_data",
          "data": {
            "text/plain": [
              "<Figure size 640x480 with 1 Axes>"
            ],
            "image/png": "[encoded data removed]"
          },
          "metadata": {}
        }
      ],
      "source": [
        "plt.plot(Xnp, ynp, 'o')\n",
        "plt.ylabel('y')\n",
        "plt.xlabel('x')\n",
        "plt.show()"
      ]
    },
    {
      "cell_type": "code",
      "execution_count": null,
      "id": "6d7f5f9d",
      "metadata": {
        "colab": {
          "base_uri": "https://localhost:8080/",
          "height": 449
        },
        "id": "6d7f5f9d",
        "outputId": "519e92bc-2cfc-4b43-e075-0ca9914ce473"
      },
      "outputs": [
        {
          "output_type": "display_data",
          "data": {
            "text/plain": [
              "<Figure size 640x480 with 1 Axes>"
            ],
            "image/png": "[encoded data removed]"
          },
          "metadata": {}
        }
      ],
      "source": [
        "def plot_fit(title):\n",
        "  plt.title = title\n",
        "  w1, b1 = get_params()\n",
        "  x1 = np.array([-30, 30])\n",
        "  y1 = w1*x1 + b1\n",
        "  plt.plot(x1, y1, 'r')\n",
        "  plt.scatter(X, y)\n",
        "  plt.ylabel('y')\n",
        "  plt.xlabel('x')\n",
        "  plt.show()\n",
        "\n",
        "plot_fit('Initial Model')"
      ]
    },
    {
      "cell_type": "code",
      "execution_count": null,
      "id": "538939b3",
      "metadata": {
        "id": "538939b3"
      },
      "outputs": [],
      "source": [
        "# X = torch.randn(20, 1)*10\n",
        "# y = X + 3*torch.randn(20, 1)\n",
        "# Xnp = X.numpy()\n",
        "# ynp = y.numpy()\n",
        "# plt.plot(Xnp, ynp, 'o')\n",
        "# plt.ylabel('y')\n",
        "# plt.xlabel('x')\n",
        "# plt.show()"
      ]
    },
    {
      "cell_type": "code",
      "execution_count": null,
      "id": "2dc6fca3",
      "metadata": {
        "id": "2dc6fca3"
      },
      "outputs": [],
      "source": [
        "criterion = nn.MSELoss()\n",
        "optimizer = torch.optim.SGD(model.parameters(), lr = 0.01)"
      ]
    },
    {
      "cell_type": "code",
      "execution_count": null,
      "id": "38855458",
      "metadata": {
        "colab": {
          "base_uri": "https://localhost:8080/"
        },
        "id": "38855458",
        "outputId": "fd85d2ef-3d61-433c-95d4-136f5a28433e"
      },
      "outputs": [
        {
          "output_type": "stream",
          "name": "stdout",
          "text": [
            "epoch: 0 loss: 41.15983581542969\n",
            "epoch: 1 loss: 24.388851165771484\n",
            "epoch: 2 loss: 16.263256072998047\n",
            "epoch: 3 loss: 12.323073387145996\n",
            "epoch: 4 loss: 10.409260749816895\n",
            "epoch: 5 loss: 9.476640701293945\n",
            "epoch: 6 loss: 9.019248962402344\n",
            "epoch: 7 loss: 8.792143821716309\n",
            "epoch: 8 loss: 8.676741600036621\n",
            "epoch: 9 loss: 8.615632057189941\n",
            "epoch: 10 loss: 8.581008911132812\n",
            "epoch: 11 loss: 8.559410095214844\n",
            "epoch: 12 loss: 8.544306755065918\n",
            "epoch: 13 loss: 8.53253173828125\n",
            "epoch: 14 loss: 8.522542953491211\n",
            "epoch: 15 loss: 8.513590812683105\n",
            "epoch: 16 loss: 8.505302429199219\n",
            "epoch: 17 loss: 8.497492790222168\n",
            "epoch: 18 loss: 8.490063667297363\n",
            "epoch: 19 loss: 8.482965469360352\n",
            "epoch: 20 loss: 8.476162910461426\n",
            "epoch: 21 loss: 8.46963882446289\n",
            "epoch: 22 loss: 8.46337604522705\n",
            "epoch: 23 loss: 8.45736312866211\n",
            "epoch: 24 loss: 8.451590538024902\n",
            "epoch: 25 loss: 8.446045875549316\n",
            "epoch: 26 loss: 8.44072151184082\n",
            "epoch: 27 loss: 8.435606956481934\n",
            "epoch: 28 loss: 8.430696487426758\n",
            "epoch: 29 loss: 8.42597770690918\n",
            "epoch: 30 loss: 8.42144775390625\n",
            "epoch: 31 loss: 8.417097091674805\n",
            "epoch: 32 loss: 8.412918090820312\n",
            "epoch: 33 loss: 8.408904075622559\n",
            "epoch: 34 loss: 8.405049324035645\n",
            "epoch: 35 loss: 8.401348114013672\n",
            "epoch: 36 loss: 8.397791862487793\n",
            "epoch: 37 loss: 8.394376754760742\n",
            "epoch: 38 loss: 8.391096115112305\n",
            "epoch: 39 loss: 8.387947082519531\n",
            "epoch: 40 loss: 8.38492202758789\n",
            "epoch: 41 loss: 8.382014274597168\n",
            "epoch: 42 loss: 8.37922477722168\n",
            "epoch: 43 loss: 8.376544952392578\n",
            "epoch: 44 loss: 8.373970031738281\n",
            "epoch: 45 loss: 8.37149715423584\n",
            "epoch: 46 loss: 8.369124412536621\n",
            "epoch: 47 loss: 8.366843223571777\n",
            "epoch: 48 loss: 8.364653587341309\n",
            "epoch: 49 loss: 8.362550735473633\n",
            "epoch: 50 loss: 8.360528945922852\n",
            "epoch: 51 loss: 8.358589172363281\n",
            "epoch: 52 loss: 8.356725692749023\n",
            "epoch: 53 loss: 8.354935646057129\n",
            "epoch: 54 loss: 8.353216171264648\n",
            "epoch: 55 loss: 8.35156536102295\n",
            "epoch: 56 loss: 8.349980354309082\n",
            "epoch: 57 loss: 8.348456382751465\n",
            "epoch: 58 loss: 8.346994400024414\n",
            "epoch: 59 loss: 8.345588684082031\n",
            "epoch: 60 loss: 8.34424114227295\n",
            "epoch: 61 loss: 8.342944145202637\n",
            "epoch: 62 loss: 8.341699600219727\n",
            "epoch: 63 loss: 8.340505599975586\n",
            "epoch: 64 loss: 8.339357376098633\n",
            "epoch: 65 loss: 8.33825397491455\n",
            "epoch: 66 loss: 8.337196350097656\n",
            "epoch: 67 loss: 8.33617877960205\n",
            "epoch: 68 loss: 8.335203170776367\n",
            "epoch: 69 loss: 8.334263801574707\n",
            "epoch: 70 loss: 8.33336353302002\n",
            "epoch: 71 loss: 8.332498550415039\n",
            "epoch: 72 loss: 8.331666946411133\n",
            "epoch: 73 loss: 8.330869674682617\n",
            "epoch: 74 loss: 8.33010196685791\n",
            "epoch: 75 loss: 8.329365730285645\n",
            "epoch: 76 loss: 8.328658103942871\n",
            "epoch: 77 loss: 8.32797908782959\n",
            "epoch: 78 loss: 8.327326774597168\n",
            "epoch: 79 loss: 8.326700210571289\n",
            "epoch: 80 loss: 8.326099395751953\n",
            "epoch: 81 loss: 8.325521469116211\n",
            "epoch: 82 loss: 8.324966430664062\n",
            "epoch: 83 loss: 8.324434280395508\n",
            "epoch: 84 loss: 8.323920249938965\n",
            "epoch: 85 loss: 8.323431015014648\n",
            "epoch: 86 loss: 8.322957992553711\n",
            "epoch: 87 loss: 8.322504043579102\n",
            "epoch: 88 loss: 8.32206916809082\n",
            "epoch: 89 loss: 8.321649551391602\n",
            "epoch: 90 loss: 8.321249008178711\n",
            "epoch: 91 loss: 8.320862770080566\n",
            "epoch: 92 loss: 8.3204927444458\n",
            "epoch: 93 loss: 8.320135116577148\n",
            "epoch: 94 loss: 8.319793701171875\n",
            "epoch: 95 loss: 8.319467544555664\n",
            "epoch: 96 loss: 8.319150924682617\n",
            "epoch: 97 loss: 8.318848609924316\n",
            "epoch: 98 loss: 8.318557739257812\n",
            "epoch: 99 loss: 8.318278312683105\n"
          ]
        }
      ],
      "source": [
        "epochs = 100\n",
        "losses = []\n",
        "for i in range(epochs):\n",
        "  y_pred = model.forward(X)\n",
        "  loss = criterion(y_pred, y)\n",
        "  print(\"epoch:\", i, \"loss:\", loss.item())\n",
        "\n",
        "  losses.append(loss)\n",
        "  optimizer.zero_grad()\n",
        "  loss.backward()\n",
        "  optimizer.step()"
      ]
    },
    {
      "cell_type": "code",
      "source": [
        "losses_tensor = torch.tensor(losses)\n",
        "plt.plot(range(epochs), losses_tensor.detach().numpy())\n",
        "plt.ylabel('Loss')\n",
        "plt.xlabel('epoch')\n",
        "plt.show()"
      ],
      "metadata": {
        "colab": {
          "base_uri": "https://localhost:8080/",
          "height": 449
        },
        "id": "fh7MNWfPopeq",
        "outputId": "2f86e618-c289-42d2-e641-a2d53a4e8f65"
      },
      "id": "fh7MNWfPopeq",
      "execution_count": null,
      "outputs": [
        {
          "output_type": "display_data",
          "data": {
            "text/plain": [
              "<Figure size 640x480 with 1 Axes>"
            ],
            "image/png": "[encoded data removed]"
          },
          "metadata": {}
        }
      ]
    },
    {
      "cell_type": "code",
      "source": [],
      "metadata": {
        "id": "aj6XGYvVpAlW"
      },
      "id": "aj6XGYvVpAlW",
      "execution_count": null,
      "outputs": []
    }
  ],
  "metadata": {
    "kernelspec": {
      "display_name": "Python 3",
      "language": "python",
      "name": "python3"
    },
    "language_info": {
      "codemirror_mode": {
        "name": "ipython",
        "version": 3
      },
      "file_extension": ".py",
      "mimetype": "text/x-python",
      "name": "python",
      "nbconvert_exporter": "python",
      "pygments_lexer": "ipython3",
      "version": "3.7.11"
    },
    "colab": {
      "provenance": []
    }
  },
  "nbformat": 4,
  "nbformat_minor": 5
}